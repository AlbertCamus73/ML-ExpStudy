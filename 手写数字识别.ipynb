{
 "cells": [
  {
   "cell_type": "code",
   "execution_count": null,
   "metadata": {},
   "outputs": [],
   "source": [
    "import numpy as np\n",
    "import pandas as pd\n",
    "import matplotlib.pyplot as plt\n",
    "%matplotlib inline\n",
    "\n",
    "from sklearn.neighbors import KNeighborsClassifier\n",
    "\n",
    "from sklearn.model_selection import train_test_split"
   ]
  },
  {
   "cell_type": "code",
   "execution_count": 76,
   "metadata": {},
   "outputs": [
    {
     "name": "stdout",
     "output_type": "stream",
     "text": [
      "b'BMF\\x07\\x00\\x00\\x00\\x00\\x00\\x006\\x04\\x00\\x00(\\x00\\x00\\x00\\x1c\\x00\\x00\\x00\\x1c\\x00\\x00\\x00\\x01\\x00\\x08\\x00\\x00\\x00\\x00\\x00\\x10\\x03\\x00\\x00\\x00\\x00\\x00\\x00\\x00\\x00\\x00\\x00\\x00\\x01\\x00\\x00\\x00\\x00\\x00\\x00\\x00\\x00\\x00\\x00\\x01\\x01\\x01\\x00\\x02\\x02\\x02\\x00\\x03\\x03\\x03\\x00\\x04\\x04\\x04\\x00\\x05\\x05\\x05\\x00\\x06\\x06\\x06\\x00\\x07\\x07\\x07\\x00\\x08\\x08\\x08\\x00\\t\\t\\t\\x00\\n\\n\\n\\x00\\x0b\\x0b\\x0b\\x00\\x0c\\x0c\\x0c\\x00\\r\\r\\r\\x00\\x0e\\x0e\\x0e\\x00\\x0f\\x0f\\x0f\\x00\\x10\\x10\\x10\\x00\\x11\\x11\\x11\\x00\\x12\\x12\\x12\\x00\\x13\\x13\\x13\\x00\\x14\\x14\\x14\\x00\\x15\\x15\\x15\\x00\\x16\\x16\\x16\\x00\\x17\\x17\\x17\\x00\\x18\\x18\\x18\\x00\\x19\\x19\\x19\\x00\\x1a\\x1a\\x1a\\x00\\x1b\\x1b\\x1b\\x00\\x1c\\x1c\\x1c\\x00\\x1d\\x1d\\x1d\\x00\\x1e\\x1e\\x1e\\x00\\x1f\\x1f\\x1f\\x00   \\x00!!!\\x00\"\"\"\\x00###\\x00$$$\\x00%%%\\x00&&&\\x00\\'\\'\\'\\x00(((\\x00)))\\x00***\\x00+++\\x00,,,\\x00---\\x00...\\x00///\\x00000\\x00111\\x00222\\x00333\\x00444\\x00555\\x00666\\x00777\\x00888\\x00999\\x00:::\\x00;;;\\x00<<<\\x00===\\x00>>>\\x00???\\x00@@@\\x00AAA\\x00BBB\\x00CCC\\x00DDD\\x00EEE\\x00FFF\\x00GGG\\x00HHH\\x00III\\x00JJJ\\x00KKK\\x00LLL\\x00MMM\\x00NNN\\x00OOO\\x00PPP\\x00QQQ\\x00RRR\\x00SSS\\x00TTT\\x00UUU\\x00VVV\\x00WWW\\x00XXX\\x00YYY\\x00ZZZ\\x00[[[\\x00\\\\\\\\\\\\\\x00]]]\\x00^^^\\x00___\\x00```\\x00aaa\\x00bbb\\x00ccc\\x00ddd\\x00eee\\x00fff\\x00ggg\\x00hhh\\x00iii\\x00jjj\\x00kkk\\x00lll\\x00mmm\\x00nnn\\x00ooo\\x00ppp\\x00qqq\\x00rrr\\x00sss\\x00ttt\\x00uuu\\x00vvv\\x00www\\x00xxx\\x00yyy\\x00zzz\\x00{{{\\x00|||\\x00}}}\\x00~~~\\x00\\x7f\\x7f\\x7f\\x00\\x80\\x80\\x80\\x00\\x81\\x81\\x81\\x00\\x82\\x82\\x82\\x00\\x83\\x83\\x83\\x00\\x84\\x84\\x84\\x00\\x85\\x85\\x85\\x00\\x86\\x86\\x86\\x00\\x87\\x87\\x87\\x00\\x88\\x88\\x88\\x00\\x89\\x89\\x89\\x00\\x8a\\x8a\\x8a\\x00\\x8b\\x8b\\x8b\\x00\\x8c\\x8c\\x8c\\x00\\x8d\\x8d\\x8d\\x00\\x8e\\x8e\\x8e\\x00\\x8f\\x8f\\x8f\\x00\\x90\\x90\\x90\\x00\\x91\\x91\\x91\\x00\\x92\\x92\\x92\\x00\\x93\\x93\\x93\\x00\\x94\\x94\\x94\\x00\\x95\\x95\\x95\\x00\\x96\\x96\\x96\\x00\\x97\\x97\\x97\\x00\\x98\\x98\\x98\\x00\\x99\\x99\\x99\\x00\\x9a\\x9a\\x9a\\x00\\x9b\\x9b\\x9b\\x00\\x9c\\x9c\\x9c\\x00\\x9d\\x9d\\x9d\\x00\\x9e\\x9e\\x9e\\x00\\x9f\\x9f\\x9f\\x00\\xa0\\xa0\\xa0\\x00\\xa1\\xa1\\xa1\\x00\\xa2\\xa2\\xa2\\x00\\xa3\\xa3\\xa3\\x00\\xa4\\xa4\\xa4\\x00\\xa5\\xa5\\xa5\\x00\\xa6\\xa6\\xa6\\x00\\xa7\\xa7\\xa7\\x00\\xa8\\xa8\\xa8\\x00\\xa9\\xa9\\xa9\\x00\\xaa\\xaa\\xaa\\x00\\xab\\xab\\xab\\x00\\xac\\xac\\xac\\x00\\xad\\xad\\xad\\x00\\xae\\xae\\xae\\x00\\xaf\\xaf\\xaf\\x00\\xb0\\xb0\\xb0\\x00\\xb1\\xb1\\xb1\\x00\\xb2\\xb2\\xb2\\x00\\xb3\\xb3\\xb3\\x00\\xb4\\xb4\\xb4\\x00\\xb5\\xb5\\xb5\\x00\\xb6\\xb6\\xb6\\x00\\xb7\\xb7\\xb7\\x00\\xb8\\xb8\\xb8\\x00\\xb9\\xb9\\xb9\\x00\\xba\\xba\\xba\\x00\\xbb\\xbb\\xbb\\x00\\xbc\\xbc\\xbc\\x00\\xbd\\xbd\\xbd\\x00\\xbe\\xbe\\xbe\\x00\\xbf\\xbf\\xbf\\x00\\xc0\\xc0\\xc0\\x00\\xc1\\xc1\\xc1\\x00\\xc2\\xc2\\xc2\\x00\\xc3\\xc3\\xc3\\x00\\xc4\\xc4\\xc4\\x00\\xc5\\xc5\\xc5\\x00\\xc6\\xc6\\xc6\\x00\\xc7\\xc7\\xc7\\x00\\xc8\\xc8\\xc8\\x00\\xc9\\xc9\\xc9\\x00\\xca\\xca\\xca\\x00\\xcb\\xcb\\xcb\\x00\\xcc\\xcc\\xcc\\x00\\xcd\\xcd\\xcd\\x00\\xce\\xce\\xce\\x00\\xcf\\xcf\\xcf\\x00\\xd0\\xd0\\xd0\\x00\\xd1\\xd1\\xd1\\x00\\xd2\\xd2\\xd2\\x00\\xd3\\xd3\\xd3\\x00\\xd4\\xd4\\xd4\\x00\\xd5\\xd5\\xd5\\x00\\xd6\\xd6\\xd6\\x00\\xd7\\xd7\\xd7\\x00\\xd8\\xd8\\xd8\\x00\\xd9\\xd9\\xd9\\x00\\xda\\xda\\xda\\x00\\xdb\\xdb\\xdb\\x00\\xdc\\xdc\\xdc\\x00\\xdd\\xdd\\xdd\\x00\\xde\\xde\\xde\\x00\\xdf\\xdf\\xdf\\x00\\xe0\\xe0\\xe0\\x00\\xe1\\xe1\\xe1\\x00\\xe2\\xe2\\xe2\\x00\\xe3\\xe3\\xe3\\x00\\xe4\\xe4\\xe4\\x00\\xe5\\xe5\\xe5\\x00\\xe6\\xe6\\xe6\\x00\\xe7\\xe7\\xe7\\x00\\xe8\\xe8\\xe8\\x00\\xe9\\xe9\\xe9\\x00\\xea\\xea\\xea\\x00\\xeb\\xeb\\xeb\\x00\\xec\\xec\\xec\\x00\\xed\\xed\\xed\\x00\\xee\\xee\\xee\\x00\\xef\\xef\\xef\\x00\\xf0\\xf0\\xf0\\x00\\xf1\\xf1\\xf1\\x00\\xf2\\xf2\\xf2\\x00\\xf3\\xf3\\xf3\\x00\\xf4\\xf4\\xf4\\x00\\xf5\\xf5\\xf5\\x00\\xf6\\xf6\\xf6\\x00\\xf7\\xf7\\xf7\\x00\\xf8\\xf8\\xf8\\x00\\xf9\\xf9\\xf9\\x00\\xfa\\xfa\\xfa\\x00\\xfb\\xfb\\xfb\\x00\\xfc\\xfc\\xfc\\x00\\xfd\\xfd\\xfd\\x00\\xfe\\xfe\\xfe\\x00\\xff\\xff\\xff\\x00\\xff\\xff\\xff\\xff\\xff\\xff\\xff\\xff\\xff\\xff\\xff\\xff\\xff\\xff\\xff\\xff\\xff\\xff\\xff\\xff\\xff\\xff\\xff\\xff\\xff\\xff\\xff\\xff\\xff\\xff\\xff\\xff\\xff\\xff\\xff\\xff\\xff\\xff\\xff\\xff\\xff\\xff\\xff\\xff\\xff\\xff\\xff\\xff\\xff\\xff\\xff\\xff\\xff\\xff\\xff\\xff\\xff\\xff\\xff\\xff\\xff\\xff\\xff\\xff\\xff\\xff\\xff\\xff\\xff\\xff\\xff\\xff\\xff\\xff\\xff\\xff\\xff\\xff\\xff\\xff\\xff\\xff\\xff\\xff\\xff\\xff\\xff\\xff\\xff\\xff\\xff\\xff\\xff\\xff\\xff\\xff\\xff\\xff\\xff\\xff\\xff\\xff\\xff\\xff\\xff\\xff\\xff\\xff\\xff\\xff\\xff\\xff\\xff\\xff\\xff\\xff\\xff\\xff\\xff\\xe6\\x7f\\x03\\x02\\x03r\\xda\\xff\\xff\\xff\\xff\\xff\\xff\\xff\\xff\\xff\\xff\\xff\\xff\\xff\\xff\\xff\\xff\\xff\\xff\\xff\\xff\\xe38\\x03\\x03\\x02\\x03\\x03\\x16n\\xff\\xff\\xff\\xff\\xff\\xff\\xff\\xff\\xff\\xff\\xff\\xff\\xff\\xff\\xff\\xff\\xff\\xff\\xff\\xaa\\x03\\x03\\x03\\x1a(\\x03\\x03\\x03;}\\xff\\xff\\xff\\xff\\xff\\xff\\xff\\xff\\xff\\xff\\xff\\xff\\xff\\xff\\xff\\xff\\xff\\xaa\\x03\\x06m\\xcf\\xe2\\xaaM\\x1e\\x02 X\\xc7\\xff\\xff\\xff\\xff\\xff\\xff\\xff\\xff\\xff\\xff\\xff\\xff\\xff\\xff\\xff\\xa9\\x02\\x1e\\xff\\xff\\xff\\xff\\xff\\xff\\x8d\\x11\\x02]\\xff\\xff\\xff\\xff\\xff\\xff\\xff\\xff\\xff\\xff\\xff\\xff\\xff\\xff\\xff\\xaa\\x03n\\xff\\xff\\xff\\xff\\xff\\xff\\xff\\xcfZ\\x03R\\xff\\xff\\xff\\xff\\xff\\xff\\xff\\xff\\xff\\xff\\xff\\xff\\xff\\xff\\xaa\\x03 \\xff\\xff\\xff\\xff\\xff\\xff\\xff\\xff\\xf8|\\x03\\x1e\\xb8\\xff\\xff\\xff\\xff\\xff\\xff\\xff\\xff\\xff\\xff\\xff\\xff\\xaa\\x03\\x19\\xe6\\xff\\xff\\xff\\xff\\xff\\xff\\xff\\xff\\xf8x\\x02E\\xf3\\xff\\xff\\xff\\xff\\xff\\xff\\xff\\xff\\xff\\xff\\xff\\xb3\\t\\x03\\x8f\\xff\\xff\\xff\\xff\\xff\\xff\\xff\\xff\\xff\\xff\\x02\\x03k\\xff\\xff\\xff\\xff\\xff\\xff\\xff\\xff\\xff\\xff\\xff\\xff9\\x02A\\xff\\xff\\xff\\xff\\xff\\xff\\xff\\xff\\xff\\xff\\x00\\x02;\\xff\\xff\\xff\\xff\\xff\\xff\\xff\\xff\\xff\\xff\\xff\\xff\\xc6\\x03\\x03\\xc0\\xff\\xff\\xff\\xff\\xff\\xff\\xff\\xff\\xff\\x02\\x03<\\xff\\xff\\xff\\xff\\xff\\xff\\xff\\xff\\xff\\xff\\xff\\xff\\xf8M\\x03\\x0f\\xb8\\xec\\xe3\\xff\\xff\\xff\\xff\\xff\\xff\\x02\\x03<\\xff\\xff\\xff\\xff\\xff\\xff\\xff\\xff\\xff\\xff\\xff\\xff\\xff\\xd9Z\\x02\\x16/\\xab\\xff\\xff\\xff\\xff\\xff\\xff\\x02\\x03Z\\xff\\xff\\xff\\xff\\xff\\xff\\xff\\xff\\xff\\xff\\xff\\xff\\xff\\xff\\xcf\\x11\\x03\\x03L\\xf3\\xb4\\x86\\xea\\xff\\xff\\x02\\x0c\\xcd\\xff\\xff\\xff\\xff\\xff\\xff\\xff\\xff\\xff\\xff\\xff\\xff\\xff\\xff\\xff\\xcc\\x11\\x02\\x02A\\x8d\\x02\\x1b\\xd0\\xb0\\x00W\\xff\\xff\\xff\\xff\\xff\\xff\\xff\\xff\\xff\\xff\\xff\\xff\\xff\\xff\\xff\\xff\\xff\\\\\\x03\\x03\\x03\\x02\\x03\\x03\\x9fB\\x02X\\xff\\xff\\xff\\xff\\xff\\xff\\xff\\xff\\xff\\xff\\xff\\xff\\xff\\xff\\xff\\xff\\xff\\xf5\\xc3\\x1f\\x03\\x02\\x035\\xab\\x03\\x02\\x85\\xff\\xff\\xff\\xff\\xff\\xff\\xff\\xff\\xff\\xff\\xff\\xff\\xff\\xff\\xff\\xff\\xff\\xff\\xff\\xc9\\x1c\\x02\\x03\\x10\\x16\\x03\\xc6\\xf9\\xff\\xff\\xff\\xff\\xff\\xff\\xff\\xff\\xff\\xff\\xff\\xff\\xff\\xff\\xff\\xff\\xff\\xff\\xff\\xff\\xcf\\x11\\x03\\x03\\x03\\x12\\xff\\xff\\xff\\xff\\xff\\xff\\xff\\xff\\xff\\xff\\xff\\xff\\xff\\xff\\xff\\xff\\xff\\xff\\xff\\xff\\xff\\xff\\xff\\xcc`\\x02`\\xcd\\xff\\xff\\xff\\xff\\xff\\xff\\xff\\xff\\xff\\xff\\xff\\xff\\xff\\xff\\xff\\xff\\xff\\xff\\xff\\xff\\xff\\xff\\xff\\xff\\xff\\xff\\xff\\xff\\xff\\xff\\xff\\xff\\xff\\xff\\xff\\xff\\xff\\xff\\xff\\xff\\xff\\xff\\xff\\xff\\xff\\xff\\xff\\xff\\xff\\xff\\xff\\xff\\xff\\xff\\xff\\xff\\xff\\xff\\xff\\xff\\xff\\xff\\xff\\xff\\xff\\xff\\xff\\xff\\xff\\xff\\xff\\xff\\xff\\xff\\xff\\xff\\xff\\xff\\xff\\xff\\xff\\xff\\xff\\xff\\xff\\xff\\xff\\xff\\xff\\xff\\xff\\xff\\xff\\xff\\xff\\xff\\xff\\xff\\xff\\xff\\xff\\xff\\xff\\xff\\xff\\xff\\xff\\xff\\xff\\xff\\xff\\xff\\xff\\xff\\xff\\xff\\xff\\xff\\xff\\xff'\n"
     ]
    }
   ],
   "source": [
    "with open('./data/0/0_1.bmp',mode='rb') as file:\n",
    "    file.\n",
    "    print(file.read())  "
   ]
  },
  {
   "cell_type": "code",
   "execution_count": 27,
   "metadata": {},
   "outputs": [],
   "source": [
    "import matplotlib.pyplot as plt\n",
    "%matplotlib inline"
   ]
  },
  {
   "cell_type": "code",
   "execution_count": 33,
   "metadata": {
    "collapsed": true
   },
   "outputs": [],
   "source": [
    "data = []\n",
    "target = []\n",
    "#读取数据\n",
    "def read_icon(index):\n",
    "    for i in range(1,501):\n",
    "        digits = plt.imread('./data/%d/%d_%d.bmp'%(index,index,i))\n",
    "        #data是数据\n",
    "        data.append(digits)\n",
    "        #数据对应的目标，标签，labels\n",
    "        target.append(index)"
   ]
  },
  {
   "cell_type": "code",
   "execution_count": 29,
   "metadata": {
    "collapsed": true
   },
   "outputs": [],
   "source": [
    "read_icon(0)"
   ]
  },
  {
   "cell_type": "code",
   "execution_count": 32,
   "metadata": {
    "collapsed": true
   },
   "outputs": [
    {
     "data": {
      "text/plain": [
       "<matplotlib.image.AxesImage at 0x7febfef45cf8>"
      ]
     },
     "execution_count": 32,
     "metadata": {},
     "output_type": "execute_result"
    },
    {
     "data": {
      "image/png": "[encoded data removed]",
      "text/plain": [
       "<matplotlib.figure.Figure at 0x7febfefbc278>"
      ]
     },
     "metadata": {},
     "output_type": "display_data"
    }
   ],
   "source": [
    "plt.imshow(data[0],cmap = 'gray')"
   ]
  },
  {
   "cell_type": "code",
   "execution_count": 34,
   "metadata": {
    "collapsed": true
   },
   "outputs": [],
   "source": [
    "#0，到9for循环，批量将数据读取\n",
    "\n",
    "for i in range(10):\n",
    "    read_icon(i)"
   ]
  },
  {
   "cell_type": "code",
   "execution_count": 35,
   "metadata": {
    "collapsed": true
   },
   "outputs": [],
   "source": [
    "#将data 和target升级到numpy\n",
    "data = np.array(data)\n",
    "target = np.array(target)"
   ]
  },
  {
   "cell_type": "code",
   "execution_count": 36,
   "metadata": {},
   "outputs": [
    {
     "data": {
      "text/plain": [
       "(5000, 28, 28)"
      ]
     },
     "execution_count": 36,
     "metadata": {},
     "output_type": "execute_result"
    }
   ],
   "source": [
    "data.shape"
   ]
  },
  {
   "cell_type": "code",
   "execution_count": null,
   "metadata": {
    "collapsed": true
   },
   "outputs": [],
   "source": [
    "#训练的数据样式：[[sample1],[sample2],[sample3],[p1,p2,p3,p4,……]]"
   ]
  },
  {
   "cell_type": "code",
   "execution_count": 37,
   "metadata": {},
   "outputs": [
    {
     "data": {
      "text/plain": [
       "(5000,)"
      ]
     },
     "execution_count": 37,
     "metadata": {},
     "output_type": "execute_result"
    }
   ],
   "source": [
    "target.shape"
   ]
  },
  {
   "cell_type": "code",
   "execution_count": 38,
   "metadata": {
    "collapsed": true
   },
   "outputs": [],
   "source": [
    "knn = KNeighborsClassifier(20)"
   ]
  },
  {
   "cell_type": "code",
   "execution_count": 39,
   "metadata": {
    "collapsed": true
   },
   "outputs": [
    {
     "ename": "ValueError",
     "evalue": "Found array with dim 3. Estimator expected <= 2.",
     "output_type": "error",
     "traceback": [
      "\u001b[0;31m---------------------------------------------------------------------------\u001b[0m",
      "\u001b[0;31mValueError\u001b[0m                                Traceback (most recent call last)",
      "\u001b[0;32m<ipython-input-39-5f37863e0477>\u001b[0m in \u001b[0;36m<module>\u001b[0;34m()\u001b[0m\n\u001b[0;32m----> 1\u001b[0;31m \u001b[0mknn\u001b[0m\u001b[0;34m.\u001b[0m\u001b[0mfit\u001b[0m\u001b[0;34m(\u001b[0m\u001b[0mdata\u001b[0m\u001b[0;34m,\u001b[0m\u001b[0mtarget\u001b[0m\u001b[0;34m)\u001b[0m\u001b[0;34m\u001b[0m\u001b[0m\n\u001b[0m",
      "\u001b[0;32m/usr/local/lib/python3.5/dist-packages/sklearn/neighbors/base.py\u001b[0m in \u001b[0;36mfit\u001b[0;34m(self, X, y)\u001b[0m\n\u001b[1;32m    759\u001b[0m         \"\"\"\n\u001b[1;32m    760\u001b[0m         \u001b[0;32mif\u001b[0m \u001b[0;32mnot\u001b[0m \u001b[0misinstance\u001b[0m\u001b[0;34m(\u001b[0m\u001b[0mX\u001b[0m\u001b[0;34m,\u001b[0m \u001b[0;34m(\u001b[0m\u001b[0mKDTree\u001b[0m\u001b[0;34m,\u001b[0m \u001b[0mBallTree\u001b[0m\u001b[0;34m)\u001b[0m\u001b[0;34m)\u001b[0m\u001b[0;34m:\u001b[0m\u001b[0;34m\u001b[0m\u001b[0m\n\u001b[0;32m--> 761\u001b[0;31m             \u001b[0mX\u001b[0m\u001b[0;34m,\u001b[0m \u001b[0my\u001b[0m \u001b[0;34m=\u001b[0m \u001b[0mcheck_X_y\u001b[0m\u001b[0;34m(\u001b[0m\u001b[0mX\u001b[0m\u001b[0;34m,\u001b[0m \u001b[0my\u001b[0m\u001b[0;34m,\u001b[0m \u001b[0;34m\"csr\"\u001b[0m\u001b[0;34m,\u001b[0m \u001b[0mmulti_output\u001b[0m\u001b[0;34m=\u001b[0m\u001b[0;32mTrue\u001b[0m\u001b[0;34m)\u001b[0m\u001b[0;34m\u001b[0m\u001b[0m\n\u001b[0m\u001b[1;32m    762\u001b[0m \u001b[0;34m\u001b[0m\u001b[0m\n\u001b[1;32m    763\u001b[0m         \u001b[0;32mif\u001b[0m \u001b[0my\u001b[0m\u001b[0;34m.\u001b[0m\u001b[0mndim\u001b[0m \u001b[0;34m==\u001b[0m \u001b[0;36m1\u001b[0m \u001b[0;32mor\u001b[0m \u001b[0my\u001b[0m\u001b[0;34m.\u001b[0m\u001b[0mndim\u001b[0m \u001b[0;34m==\u001b[0m \u001b[0;36m2\u001b[0m \u001b[0;32mand\u001b[0m \u001b[0my\u001b[0m\u001b[0;34m.\u001b[0m\u001b[0mshape\u001b[0m\u001b[0;34m[\u001b[0m\u001b[0;36m1\u001b[0m\u001b[0;34m]\u001b[0m \u001b[0;34m==\u001b[0m \u001b[0;36m1\u001b[0m\u001b[0;34m:\u001b[0m\u001b[0;34m\u001b[0m\u001b[0m\n",
      "\u001b[0;32m/usr/local/lib/python3.5/dist-packages/sklearn/utils/validation.py\u001b[0m in \u001b[0;36mcheck_X_y\u001b[0;34m(X, y, accept_sparse, dtype, order, copy, force_all_finite, ensure_2d, allow_nd, multi_output, ensure_min_samples, ensure_min_features, y_numeric, warn_on_dtype, estimator)\u001b[0m\n\u001b[1;32m    519\u001b[0m     X = check_array(X, accept_sparse, dtype, order, copy, force_all_finite,\n\u001b[1;32m    520\u001b[0m                     \u001b[0mensure_2d\u001b[0m\u001b[0;34m,\u001b[0m \u001b[0mallow_nd\u001b[0m\u001b[0;34m,\u001b[0m \u001b[0mensure_min_samples\u001b[0m\u001b[0;34m,\u001b[0m\u001b[0;34m\u001b[0m\u001b[0m\n\u001b[0;32m--> 521\u001b[0;31m                     ensure_min_features, warn_on_dtype, estimator)\n\u001b[0m\u001b[1;32m    522\u001b[0m     \u001b[0;32mif\u001b[0m \u001b[0mmulti_output\u001b[0m\u001b[0;34m:\u001b[0m\u001b[0;34m\u001b[0m\u001b[0m\n\u001b[1;32m    523\u001b[0m         y = check_array(y, 'csr', force_all_finite=True, ensure_2d=False,\n",
      "\u001b[0;32m/usr/local/lib/python3.5/dist-packages/sklearn/utils/validation.py\u001b[0m in \u001b[0;36mcheck_array\u001b[0;34m(array, accept_sparse, dtype, order, copy, force_all_finite, ensure_2d, allow_nd, ensure_min_samples, ensure_min_features, warn_on_dtype, estimator)\u001b[0m\n\u001b[1;32m    403\u001b[0m         \u001b[0;32mif\u001b[0m \u001b[0;32mnot\u001b[0m \u001b[0mallow_nd\u001b[0m \u001b[0;32mand\u001b[0m \u001b[0marray\u001b[0m\u001b[0;34m.\u001b[0m\u001b[0mndim\u001b[0m \u001b[0;34m>=\u001b[0m \u001b[0;36m3\u001b[0m\u001b[0;34m:\u001b[0m\u001b[0;34m\u001b[0m\u001b[0m\n\u001b[1;32m    404\u001b[0m             raise ValueError(\"Found array with dim %d. %s expected <= 2.\"\n\u001b[0;32m--> 405\u001b[0;31m                              % (array.ndim, estimator_name))\n\u001b[0m\u001b[1;32m    406\u001b[0m         \u001b[0;32mif\u001b[0m \u001b[0mforce_all_finite\u001b[0m\u001b[0;34m:\u001b[0m\u001b[0;34m\u001b[0m\u001b[0m\n\u001b[1;32m    407\u001b[0m             \u001b[0m_assert_all_finite\u001b[0m\u001b[0;34m(\u001b[0m\u001b[0marray\u001b[0m\u001b[0;34m)\u001b[0m\u001b[0;34m\u001b[0m\u001b[0m\n",
      "\u001b[0;31mValueError\u001b[0m: Found array with dim 3. Estimator expected <= 2."
     ]
    }
   ],
   "source": [
    "\n",
    "#Found array with dim 3. Estimator expected <= 2.\n",
    "#data 结构不符合要求，reshape\n",
    "knn.fit(data,target)"
   ]
  },
  {
   "cell_type": "code",
   "execution_count": 41,
   "metadata": {},
   "outputs": [],
   "source": [
    "x_data = data.reshape((5000,-1))"
   ]
  },
  {
   "cell_type": "code",
   "execution_count": 42,
   "metadata": {},
   "outputs": [
    {
     "data": {
      "text/plain": [
       "(5000, 784)"
      ]
     },
     "execution_count": 42,
     "metadata": {},
     "output_type": "execute_result"
    }
   ],
   "source": [
    "x_data.shape"
   ]
  },
  {
   "cell_type": "code",
   "execution_count": 43,
   "metadata": {
    "collapsed": true
   },
   "outputs": [],
   "source": [
    "X_train,x_test,y_train,y_test = train_test_split(x_data,target,test_size = 0.05)"
   ]
  },
  {
   "cell_type": "code",
   "execution_count": 44,
   "metadata": {
    "scrolled": true
   },
   "outputs": [
    {
     "data": {
      "text/plain": [
       "(4750,)"
      ]
     },
     "execution_count": 44,
     "metadata": {},
     "output_type": "execute_result"
    }
   ],
   "source": [
    "y_train.shape"
   ]
  },
  {
   "cell_type": "code",
   "execution_count": 45,
   "metadata": {
    "collapsed": true
   },
   "outputs": [],
   "source": [
    "knn = KNeighborsClassifier(20)"
   ]
  },
  {
   "cell_type": "code",
   "execution_count": 47,
   "metadata": {},
   "outputs": [
    {
     "data": {
      "text/plain": [
       "KNeighborsClassifier(algorithm='auto', leaf_size=30, metric='minkowski',\n",
       "           metric_params=None, n_jobs=1, n_neighbors=20, p=2,\n",
       "           weights='uniform')"
      ]
     },
     "execution_count": 47,
     "metadata": {},
     "output_type": "execute_result"
    }
   ],
   "source": [
    "#训练\n",
    "knn.fit(X_train,y_train)"
   ]
  },
  {
   "cell_type": "code",
   "execution_count": 48,
   "metadata": {
    "collapsed": true
   },
   "outputs": [],
   "source": [
    "#预测\n",
    "y_ = knn.predict(x_test)"
   ]
  },
  {
   "cell_type": "code",
   "execution_count": 49,
   "metadata": {
    "collapsed": true
   },
   "outputs": [
    {
     "data": {
      "text/plain": [
       "array([4, 5, 4, 6, 9, 1, 7, 9, 0, 7, 9, 8, 5, 1, 0, 9, 3, 7, 6, 6, 1, 3, 0,\n",
       "       9, 6, 8, 4, 9, 7, 8, 3, 8, 3, 1, 1, 7, 5, 2, 1, 7, 3, 3, 6, 9, 7, 6,\n",
       "       1, 2, 0, 9, 6, 1, 4, 3, 4, 8, 1, 4, 3, 3, 7, 4, 3, 1, 7, 1, 2, 1, 4,\n",
       "       8, 9, 3, 5, 0, 2, 7, 9, 4, 8, 2, 6, 3, 6, 3, 3, 7, 2, 3, 7, 7, 0, 6,\n",
       "       7, 1, 3, 6, 5, 7, 3, 2, 5, 6, 8, 5, 6, 9, 7, 6, 8, 6, 6, 1, 0, 2, 5,\n",
       "       8, 7, 4, 9, 0, 5, 6, 5, 0, 3, 0, 3, 4, 1, 0, 9, 7, 5, 5, 9, 7, 6, 6,\n",
       "       0, 0, 8, 5, 2, 5, 7, 5, 3, 6, 9, 0, 3, 5, 8, 0, 2, 9, 7, 3, 6, 9, 9,\n",
       "       5, 9, 9, 8, 8, 0, 3, 3, 6, 0, 7, 4, 3, 9, 4, 7, 6, 7, 9, 7, 3, 5, 0,\n",
       "       0, 0, 0, 1, 7, 9, 4, 9, 9, 6, 1, 1, 7, 6, 1, 7, 9, 6, 7, 5, 4, 0, 0,\n",
       "       2, 0, 9, 1, 2, 9, 6, 5, 7, 0, 0, 2, 1, 3, 7, 8, 1, 3, 8, 3, 3, 3, 1,\n",
       "       9, 3, 2, 3, 6, 3, 8, 6, 2, 3, 4, 4, 8, 9, 9, 0, 7, 4, 0, 1])"
      ]
     },
     "execution_count": 49,
     "metadata": {},
     "output_type": "execute_result"
    }
   ],
   "source": [
    "y_"
   ]
  },
  {
   "cell_type": "code",
   "execution_count": 50,
   "metadata": {
    "collapsed": true
   },
   "outputs": [
    {
     "data": {
      "text/plain": [
       "array([4, 5, 4, 6, 9, 6, 7, 9, 0, 7, 3, 8, 5, 1, 0, 4, 3, 7, 6, 6, 1, 3, 0,\n",
       "       9, 6, 8, 4, 4, 9, 8, 3, 8, 3, 2, 1, 7, 5, 2, 1, 7, 3, 3, 5, 4, 7, 6,\n",
       "       7, 2, 0, 9, 6, 1, 4, 9, 4, 8, 1, 4, 8, 2, 7, 4, 3, 1, 7, 1, 2, 1, 4,\n",
       "       8, 9, 5, 5, 0, 2, 2, 9, 4, 8, 2, 6, 3, 0, 3, 3, 7, 2, 3, 7, 7, 0, 6,\n",
       "       7, 1, 3, 6, 5, 7, 5, 2, 5, 6, 8, 5, 6, 9, 7, 6, 8, 6, 6, 8, 0, 2, 5,\n",
       "       8, 7, 4, 9, 0, 5, 6, 6, 0, 3, 0, 3, 4, 1, 0, 9, 7, 5, 5, 9, 7, 6, 6,\n",
       "       0, 0, 8, 5, 2, 5, 7, 5, 3, 6, 9, 0, 3, 5, 8, 0, 2, 9, 7, 3, 6, 9, 9,\n",
       "       5, 9, 9, 8, 8, 0, 3, 3, 6, 0, 7, 4, 3, 9, 4, 9, 6, 7, 9, 7, 3, 5, 0,\n",
       "       0, 0, 0, 1, 7, 9, 4, 9, 9, 6, 1, 1, 7, 6, 1, 7, 9, 6, 7, 5, 4, 0, 0,\n",
       "       2, 0, 9, 9, 2, 9, 6, 5, 7, 0, 8, 2, 8, 3, 7, 8, 1, 8, 8, 3, 3, 3, 4,\n",
       "       9, 3, 2, 3, 6, 3, 8, 6, 2, 3, 4, 4, 8, 9, 9, 0, 7, 4, 0, 1])"
      ]
     },
     "execution_count": 50,
     "metadata": {},
     "output_type": "execute_result"
    }
   ],
   "source": [
    "y_test"
   ]
  },
  {
   "cell_type": "code",
   "execution_count": 51,
   "metadata": {
    "scrolled": true
   },
   "outputs": [
    {
     "data": {
      "text/plain": [
       "0.90400000000000003"
      ]
     },
     "execution_count": 51,
     "metadata": {},
     "output_type": "execute_result"
    }
   ],
   "source": [
    "knn.score(x_test,y_test)"
   ]
  },
  {
   "cell_type": "code",
   "execution_count": 53,
   "metadata": {},
   "outputs": [
    {
     "data": {
      "text/plain": [
       "(250, 784)"
      ]
     },
     "execution_count": 53,
     "metadata": {},
     "output_type": "execute_result"
    }
   ],
   "source": [
    "x_test.shape"
   ]
  },
  {
   "cell_type": "code",
   "execution_count": 3,
   "metadata": {},
   "outputs": [
    {
     "ename": "NameError",
     "evalue": "name 'plt' is not defined",
     "output_type": "error",
     "traceback": [
      "\u001b[1;31m---------------------------------------------------------------------------\u001b[0m",
      "\u001b[1;31mNameError\u001b[0m                                 Traceback (most recent call last)",
      "\u001b[1;32m<ipython-input-3-05990e65eea8>\u001b[0m in \u001b[0;36m<module>\u001b[1;34m\u001b[0m\n\u001b[0;32m      1\u001b[0m \u001b[1;31m#将预测的数据和真实数据显示出来\u001b[0m\u001b[1;33m\u001b[0m\u001b[1;33m\u001b[0m\u001b[1;33m\u001b[0m\u001b[0m\n\u001b[0;32m      2\u001b[0m \u001b[1;33m\u001b[0m\u001b[0m\n\u001b[1;32m----> 3\u001b[1;33m \u001b[0mplt\u001b[0m\u001b[1;33m.\u001b[0m\u001b[0mfigure\u001b[0m\u001b[1;33m(\u001b[0m\u001b[0mfigsize\u001b[0m\u001b[1;33m=\u001b[0m\u001b[1;33m(\u001b[0m\u001b[1;36m5\u001b[0m\u001b[1;33m*\u001b[0m\u001b[1;36m2.4\u001b[0m\u001b[1;33m,\u001b[0m\u001b[1;36m5\u001b[0m\u001b[1;33m*\u001b[0m\u001b[1;36m3\u001b[0m\u001b[1;33m)\u001b[0m\u001b[1;33m)\u001b[0m\u001b[1;33m\u001b[0m\u001b[1;33m\u001b[0m\u001b[0m\n\u001b[0m\u001b[0;32m      4\u001b[0m \u001b[1;33m\u001b[0m\u001b[0m\n\u001b[0;32m      5\u001b[0m \u001b[1;32mfor\u001b[0m \u001b[0mi\u001b[0m \u001b[1;32min\u001b[0m \u001b[0mrange\u001b[0m\u001b[1;33m(\u001b[0m\u001b[1;36m1\u001b[0m\u001b[1;33m,\u001b[0m\u001b[1;36m26\u001b[0m\u001b[1;33m)\u001b[0m\u001b[1;33m:\u001b[0m\u001b[1;33m\u001b[0m\u001b[1;33m\u001b[0m\u001b[0m\n",
      "\u001b[1;31mNameError\u001b[0m: name 'plt' is not defined"
     ]
    }
   ],
   "source": [
    "#将预测的数据和真实数据显示出来\n",
    "\n",
    "plt.figure(figsize=(5*2.4,5*3))\n",
    "\n",
    "for i in range(1,26):\n",
    "    \n",
    "    axes = plt.subplot(5,5,i)\n",
    "    \n",
    "    #图片的数据x_test\n",
    "    image = x_test[(i-1)*10].reshape((28,28))\n",
    "    axes.imshow(image)\n",
    "    \n",
    "    axes.set_title('true:%d\\n predict:%d'%(y_test[(i-1)*10],y_[(i-1)*10]))\n",
    "    \n",
    "#     plt.title('true:%d\\n predict:%d'%(y_test[(i-1)*10],y_[(i-1)*10]))\n",
    "    "
   ]
  },
  {
   "cell_type": "code",
   "execution_count": null,
   "metadata": {},
   "outputs": [],
   "source": []
  }
 ],
 "metadata": {
  "kernelspec": {
   "display_name": "Python 3",
   "language": "python",
   "name": "python3"
  },
  "language_info": {
   "codemirror_mode": {
    "name": "ipython",
    "version": 3
   },
   "file_extension": ".py",
   "mimetype": "text/x-python",
   "name": "python",
   "nbconvert_exporter": "python",
   "pygments_lexer": "ipython3",
   "version": "3.8.5"
  }
 },
 "nbformat": 4,
 "nbformat_minor": 2
}
